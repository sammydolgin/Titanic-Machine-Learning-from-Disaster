{
 "cells": [
  {
   "cell_type": "code",
   "execution_count": 1,
   "metadata": {},
   "outputs": [],
   "source": [
    "import pandas as pd\n",
    "import numpy as np\n",
    "from sklearn.neighbors import KNeighborsClassifier\n",
    "from sklearn.impute import KNNImputer\n",
    "import math\n",
    "import seaborn as sns\n",
    "import matplotlib.pyplot\n",
    "import pylab\n",
    "from sklearn.linear_model import LogisticRegression\n",
    "from sklearn.model_selection import train_test_split\n",
    "from sklearn import tree\n",
    "import matplotlib.pyplot as plt\n",
    "import sklearn.model_selection as ms\n",
    "from sklearn import ensemble\n",
    "import scipy\n",
    "import warnings\n",
    "warnings.filterwarnings('ignore')"
   ]
  },
  {
   "cell_type": "code",
   "execution_count": 2,
   "metadata": {},
   "outputs": [
    {
     "name": "stdout",
     "output_type": "stream",
     "text": [
      "(891, 12)\n"
     ]
    }
   ],
   "source": [
    "df = pd.read_csv('train.csv')\n",
    "testdf = pd.read_csv('test.csv')\n",
    "df.head()\n",
    "print(df.shape)"
   ]
  },
  {
   "cell_type": "markdown",
   "metadata": {},
   "source": [
    "# Dropping or Dummifying Extraneous Variables"
   ]
  },
  {
   "cell_type": "markdown",
   "metadata": {},
   "source": [
    "----------------------------PassengerID, Ticket, Name----------------------------"
   ]
  },
  {
   "cell_type": "code",
   "execution_count": 3,
   "metadata": {},
   "outputs": [],
   "source": [
    "#PassengerID, Ticket, Name are irrelevant\n",
    "\n",
    "df = df.drop(['PassengerId', 'Ticket', 'Name'], axis=1)"
   ]
  },
  {
   "cell_type": "markdown",
   "metadata": {},
   "source": [
    "----------------------------Cabin----------------------------"
   ]
  },
  {
   "cell_type": "code",
   "execution_count": 4,
   "metadata": {},
   "outputs": [
    {
     "name": "stdout",
     "output_type": "stream",
     "text": [
      "Survived      0\n",
      "Pclass        0\n",
      "Sex           0\n",
      "Age         177\n",
      "SibSp         0\n",
      "Parch         0\n",
      "Fare          0\n",
      "Cabin       687\n",
      "Embarked      2\n",
      "dtype: int64\n",
      "\n",
      "\n",
      "Ttest_indResult(statistic=9.962587130990059, pvalue=3.090891039654821e-22)\n"
     ]
    },
    {
     "data": {
      "image/png": "[encoded data removed]",
      "text/plain": [
       "<Figure size 432x288 with 1 Axes>"
      ]
     },
     "metadata": {
      "needs_background": "light"
     },
     "output_type": "display_data"
    }
   ],
   "source": [
    "print(df.isna().sum())\n",
    "\n",
    "print('\\n')\n",
    "\n",
    "#Lots of missingness for Cabin. Lets see if it's telling about surival rates\n",
    "\n",
    "df['CabinMissing'] = [1 if type(df.Cabin[i]) == float else 0 for i in range(len(df.Cabin))]\n",
    "\n",
    "print(scipy.stats.ttest_ind(df.Survived[df['CabinMissing']==0],df.Survived[df['CabinMissing']==1]))\n",
    "\n",
    "sns.barplot(x='CabinMissing', y='Survived', data=df)\n",
    "\n",
    "#Huge difference in survival rates between those with and without missing cabin.\n",
    "\n",
    "#Will keep the dummified column and get rid of cabin itself\n",
    "\n",
    "df = df.drop(['Cabin'], axis=1)"
   ]
  },
  {
   "cell_type": "markdown",
   "metadata": {},
   "source": [
    "----------------------------Parch----------------------------"
   ]
  },
  {
   "cell_type": "code",
   "execution_count": 5,
   "metadata": {},
   "outputs": [
    {
     "name": "stdout",
     "output_type": "stream",
     "text": [
      "Overall Avg. Survival Rate\n",
      "0.3838383838383838\n",
      "\n",
      "\n",
      "Parch\n",
      "0    0.343658\n",
      "1    0.550847\n",
      "2    0.500000\n",
      "3    0.600000\n",
      "4    0.000000\n",
      "5    0.200000\n",
      "6    0.000000\n",
      "Name: Survived, dtype: float64\n",
      "\n",
      "\n",
      "Parch\n",
      "0    678\n",
      "1    118\n",
      "2     80\n",
      "3      5\n",
      "4      4\n",
      "5      5\n",
      "6      1\n",
      "Name: Survived, dtype: int64\n",
      "\n",
      "\n",
      "Ttest_indResult(statistic=-4.44366045237527, pvalue=9.960117237213745e-06)\n"
     ]
    },
    {
     "data": {
      "text/plain": [
       "<matplotlib.axes._subplots.AxesSubplot at 0x1064a3470>"
      ]
     },
     "execution_count": 5,
     "metadata": {},
     "output_type": "execute_result"
    },
    {
     "data": {
      "image/png": "[encoded data removed]",
      "text/plain": [
       "<Figure size 432x288 with 1 Axes>"
      ]
     },
     "metadata": {
      "needs_background": "light"
     },
     "output_type": "display_data"
    }
   ],
   "source": [
    "print('Overall Avg. Survival Rate')\n",
    "print(len(df[df['Survived']==1])/len(df))\n",
    "\n",
    "print('\\n')\n",
    "print(df.groupby('Parch').mean()['Survived'])\n",
    "print('\\n')\n",
    "print(df.groupby('Parch').count()['Survived'])\n",
    "print('\\n')\n",
    "\n",
    "#Survival rate doesn't really increase with each Parch number\n",
    "#But it does seem to be different at 0 Parches vs 1+ Parch\n",
    "#Will dummify\n",
    "\n",
    "df['Parch'] = [1 if df.Parch[i]>0 else 0 for i in range(len(df.Parch))]\n",
    "\n",
    "#Will test difference in survival rates for parch vs. no parch\n",
    "\n",
    "print(scipy.stats.ttest_ind(df.Survived[df['Parch']==0],df.Survived[df['Parch']==1]))\n",
    "\n",
    "#pvalue < 0.05\n",
    "\n",
    "sns.barplot(x='Parch', y='Survived', data=df)"
   ]
  },
  {
   "cell_type": "markdown",
   "metadata": {},
   "source": [
    "----------------------------SibSp----------------------------"
   ]
  },
  {
   "cell_type": "code",
   "execution_count": 6,
   "metadata": {},
   "outputs": [
    {
     "name": "stdout",
     "output_type": "stream",
     "text": [
      "SibSp\n",
      "0    0.345395\n",
      "1    0.535885\n",
      "2    0.464286\n",
      "3    0.250000\n",
      "4    0.166667\n",
      "5    0.000000\n",
      "8    0.000000\n",
      "Name: Survived, dtype: float64\n",
      "\n",
      "\n",
      "SibSp\n",
      "0    608\n",
      "1    209\n",
      "2     28\n",
      "3     16\n",
      "4     18\n",
      "5      5\n",
      "8      7\n",
      "Name: Survived, dtype: int64\n"
     ]
    }
   ],
   "source": [
    "print(df.groupby('SibSp').mean()['Survived'])\n",
    "print('\\n')\n",
    "print(df.groupby('SibSp').count()['Survived'])\n",
    "\n",
    "# It's obviously not a linear progression\n",
    "# I will dummify 0, 1, and 2 (3+ will be the removed column)\n",
    "\n",
    "df['0Sib'] = [1 if df.SibSp[i]==0 else 0 for i in range(len(df.SibSp))]\n",
    "df['1Sib'] = [1 if df.SibSp[i]==1 else 0 for i in range(len(df.SibSp))]\n",
    "df['2Sib'] = [1 if df.SibSp[i]==2 else 0 for i in range(len(df.SibSp))]\n",
    "\n",
    "df = df.drop(['SibSp'], axis=1)"
   ]
  },
  {
   "cell_type": "markdown",
   "metadata": {},
   "source": [
    "# Imputing Missing Data"
   ]
  },
  {
   "cell_type": "markdown",
   "metadata": {},
   "source": [
    "----------------------------Embarked----------------------------"
   ]
  },
  {
   "cell_type": "code",
   "execution_count": 7,
   "metadata": {},
   "outputs": [
    {
     "name": "stdout",
     "output_type": "stream",
     "text": [
      "Survived          0\n",
      "Pclass            0\n",
      "Sex               0\n",
      "Age             177\n",
      "Parch             0\n",
      "Fare              0\n",
      "Embarked          2\n",
      "CabinMissing      0\n",
      "0Sib              0\n",
      "1Sib              0\n",
      "2Sib              0\n",
      "dtype: int64\n",
      "\n",
      "\n",
      "S    644\n",
      "C    168\n",
      "Q     77\n",
      "Name: Embarked, dtype: int64\n",
      "\n",
      "\n"
     ]
    }
   ],
   "source": [
    "print(df.isna().sum())\n",
    "\n",
    "print('\\n')\n",
    "\n",
    "print(df.Embarked.value_counts())\n",
    "\n",
    "print('\\n')\n",
    "\n",
    "#The vast majority of Embarked values are 'S', so we will impute with that, since there's only 2 missing.\n",
    "\n",
    "for i in range(len(df.Embarked)):\n",
    "    if pd.isna(df.Embarked[i]):\n",
    "        df.Embarked[i] = 'S'"
   ]
  },
  {
   "cell_type": "markdown",
   "metadata": {},
   "source": [
    "----------------------------Age----------------------------"
   ]
  },
  {
   "cell_type": "code",
   "execution_count": 8,
   "metadata": {},
   "outputs": [
    {
     "name": "stdout",
     "output_type": "stream",
     "text": [
      "Survived          0\n",
      "Pclass            0\n",
      "Sex               0\n",
      "Age             177\n",
      "Parch             0\n",
      "Fare              0\n",
      "Embarked          0\n",
      "CabinMissing      0\n",
      "0Sib              0\n",
      "1Sib              0\n",
      "2Sib              0\n",
      "dtype: int64\n",
      "\n",
      "\n",
      "Ttest_indResult(statistic=2.7606993230995345, pvalue=0.005886534840075563)\n"
     ]
    },
    {
     "data": {
      "text/plain": [
       "<matplotlib.axes._subplots.AxesSubplot at 0x1a1b4c7160>"
      ]
     },
     "execution_count": 8,
     "metadata": {},
     "output_type": "execute_result"
    },
    {
     "data": {
      "image/png": "[encoded data removed]",
      "text/plain": [
       "<Figure size 432x288 with 1 Axes>"
      ]
     },
     "metadata": {
      "needs_background": "light"
     },
     "output_type": "display_data"
    }
   ],
   "source": [
    "print(df.isna().sum())\n",
    "print('\\n')\n",
    "\n",
    "#Like Cabin, will dummify Age missingness\n",
    "\n",
    "df['MissingAge'] = [1 if np.isnan(df.Age[i]) else 0 for i in range(len(df.Age))]\n",
    "\n",
    "#Will run a 2-sample t-test to see if age missingness effects survival rate\n",
    "\n",
    "print(scipy.stats.ttest_ind(df.Survived[df['MissingAge']==0],df.Survived[df['MissingAge']==1]))\n",
    "\n",
    "#significant difference in survival rate (pvalue < 0.05)\n",
    "\n",
    "sns.barplot(x='MissingAge', y='Survived', data=df)"
   ]
  },
  {
   "cell_type": "code",
   "execution_count": 9,
   "metadata": {},
   "outputs": [
    {
     "data": {
      "text/plain": [
       "-0.07722109457217737"
      ]
     },
     "execution_count": 9,
     "metadata": {},
     "output_type": "execute_result"
    }
   ],
   "source": [
    "df.corr()['Age']['Survived']\n",
    "\n",
    "#No obvious linear correlation between Age and survival"
   ]
  },
  {
   "cell_type": "code",
   "execution_count": 10,
   "metadata": {},
   "outputs": [
    {
     "name": "stdout",
     "output_type": "stream",
     "text": [
      "Proportion of those ages 0-9 that survived: 0.6129032258064516     Sample Size: 62\n",
      "Proportion of those ages 10-19 that survived: 0.4019607843137255     Sample Size: 102\n",
      "Proportion of those ages 20-29 that survived: 0.35     Sample Size: 220\n",
      "Proportion of those ages 30-39 that survived: 0.437125748502994     Sample Size: 167\n",
      "Proportion of those ages 40-49 that survived: 0.38202247191011235     Sample Size: 89\n",
      "Proportion of those ages 50-59 that survived: 0.4166666666666667     Sample Size: 48\n",
      "Proportion of those ages 60-69 that survived: 0.3157894736842105     Sample Size: 19\n",
      "Proportion of those ages 70+ that survived: 0.14285714285714285     Sample Size: 7\n"
     ]
    }
   ],
   "source": [
    "#I want to see if I dummify ages by 10s of years, if we can see any trend in survival rate as the age increases\n",
    "\n",
    "dfage = df.copy()\n",
    "\n",
    "dfage['zero-nine'] = [1 if dfage.Age[i] < 10 else 0 for i in range(len(dfage.Age))]\n",
    "dfage['ten-nineteen'] = [1 if (dfage.Age[i] < 20 and dfage.Age[i] >= 10)  else 0 for i in range(len(dfage.Age))]\n",
    "dfage['twenty-twentynine'] = [1 if (dfage.Age[i] < 30 and dfage.Age[i] >= 20)  else 0 for i in range(len(dfage.Age))]\n",
    "dfage['thirty-nine'] = [1 if (dfage.Age[i] < 40 and dfage.Age[i] >= 30)  else 0 for i in range(len(dfage.Age))]\n",
    "dfage['fourty-nine'] = [1 if (dfage.Age[i] < 50 and dfage.Age[i] >= 40)  else 0 for i in range(len(dfage.Age))]\n",
    "dfage['fifty-nine'] = [1 if (dfage.Age[i] < 60 and dfage.Age[i] >= 50)  else 0 for i in range(len(dfage.Age))]\n",
    "dfage['sixty-nine'] = [1 if (dfage.Age[i] < 70 and dfage.Age[i] >= 60)  else 0 for i in range(len(dfage.Age))]\n",
    "dfage['seventy+'] = [1 if dfage.Age[i]>= 70 else 0 for i in range(len(dfage.Age))]\n",
    "\n",
    "print('Proportion of those ages 0-9 that survived: ' + str(sum(df.Survived[dfage['zero-nine']==1])/sum(dfage['zero-nine'])) + '     Sample Size: ' + str(sum(dfage['zero-nine'])))\n",
    "print('Proportion of those ages 10-19 that survived: ' + str(sum(df.Survived[dfage['ten-nineteen']==1])/sum(dfage['ten-nineteen'])) + '     Sample Size: ' + str(sum(dfage['ten-nineteen'])))\n",
    "print('Proportion of those ages 20-29 that survived: ' + str(sum(df.Survived[dfage['twenty-twentynine']==1])/sum(dfage['twenty-twentynine'])) + '     Sample Size: ' + str(sum(dfage['twenty-twentynine'])))\n",
    "print('Proportion of those ages 30-39 that survived: ' + str(sum(df.Survived[dfage['thirty-nine']==1])/sum(dfage['thirty-nine'])) + '     Sample Size: ' + str(sum(dfage['thirty-nine'])))\n",
    "print('Proportion of those ages 40-49 that survived: ' + str(sum(df.Survived[dfage['fourty-nine']==1])/sum(dfage['fourty-nine'])) + '     Sample Size: ' + str(sum(dfage['fourty-nine'])))\n",
    "print('Proportion of those ages 50-59 that survived: ' + str(sum(df.Survived[dfage['fifty-nine']==1])/sum(dfage['fifty-nine'])) + '     Sample Size: ' + str(sum(dfage['fifty-nine'])))\n",
    "print('Proportion of those ages 60-69 that survived: ' + str(sum(df.Survived[dfage['sixty-nine']==1])/sum(dfage['sixty-nine'])) + '     Sample Size: ' + str(sum(dfage['sixty-nine'])))\n",
    "print('Proportion of those ages 70+ that survived: ' + str(sum(df.Survived[dfage['seventy+']==1])/sum(dfage['seventy+'])) + '     Sample Size: ' + str(sum(dfage['seventy+'])))\n",
    "\n",
    "# The difference is all concentrated in the much lower and much higher age. \n",
    "# Change in age looks like it has a negligible impact from 10-60\n",
    "# We can drop the age variable, but let's drill in further to see if we can dummify some cutoff points"
   ]
  },
  {
   "cell_type": "code",
   "execution_count": 11,
   "metadata": {},
   "outputs": [
    {
     "name": "stdout",
     "output_type": "stream",
     "text": [
      "Percent of overall survivors 0.3838383838383838\n",
      "\n",
      "\n",
      "Age 0 has no samples\n",
      "Number of Passeners age 1:    0.7143                 Sample size = 7\n",
      "Number of Passeners age 2:    0.3                 Sample size = 10\n",
      "Number of Passeners age 3:    0.8333                 Sample size = 6\n",
      "Number of Passeners age 4:    0.7                 Sample size = 10\n",
      "Number of Passeners age 5:    1.0                 Sample size = 4\n",
      "Number of Passeners age 6:    0.6667                 Sample size = 3\n",
      "Number of Passeners age 7:    0.3333                 Sample size = 3\n",
      "Number of Passeners age 8:    0.5                 Sample size = 4\n",
      "Number of Passeners age 9:    0.25                 Sample size = 8\n",
      "Number of Passeners age 10:    0.0                 Sample size = 2\n",
      "Number of Passeners age 11:    0.25                 Sample size = 4\n",
      "Number of Passeners age 12:    1.0                 Sample size = 1\n",
      "Number of Passeners age 13:    1.0                 Sample size = 2\n",
      "Number of Passeners age 14:    0.5                 Sample size = 6\n",
      "Number of Passeners age 15:    0.8                 Sample size = 5\n",
      "Number of Passeners age 16:    0.3529                 Sample size = 17\n",
      "Number of Passeners age 17:    0.4615                 Sample size = 13\n",
      "Number of Passeners age 18:    0.3462                 Sample size = 26\n",
      "Number of Passeners age 19:    0.36                 Sample size = 25\n",
      "\n",
      "\n",
      "--------------------------------------------------\n",
      "\n",
      "\n",
      "Number of Passeners age 55:    0.5                 Sample size = 2\n",
      "Number of Passeners age 56:    0.5                 Sample size = 4\n",
      "Number of Passeners age 57:    0.0                 Sample size = 2\n",
      "Number of Passeners age 58:    0.6                 Sample size = 5\n",
      "Number of Passeners age 59:    0.0                 Sample size = 2\n",
      "Number of Passeners age 60:    0.5                 Sample size = 4\n",
      "Number of Passeners age 61:    0.0                 Sample size = 3\n",
      "Number of Passeners age 62:    0.5                 Sample size = 4\n",
      "Number of Passeners age 63:    1.0                 Sample size = 2\n",
      "Number of Passeners age 64:    0.0                 Sample size = 2\n",
      "Number of Passeners age 65:    0.0                 Sample size = 3\n",
      "Number of Passeners age 66:    0.0                 Sample size = 1\n",
      "Age 67 has no samples\n",
      "Age 68 has no samples\n",
      "Age 69 has no samples\n",
      "Number of Passeners age 70:    0.0                 Sample size = 2\n",
      "Number of Passeners age 71:    0.0                 Sample size = 2\n",
      "Age 72 has no samples\n",
      "Age 73 has no samples\n",
      "Number of Passeners age 74:    0.0                 Sample size = 1\n",
      "Age 75 has no samples\n",
      "Age 76 has no samples\n",
      "Age 77 has no samples\n",
      "Age 78 has no samples\n",
      "Age 79 has no samples\n",
      "Number of Passeners age 80:    1.0                 Sample size = 1\n",
      "\n",
      "\n",
      "\n",
      "\n",
      "2 Sample t-test for Age 6 and under having higher survival rate\n",
      "Ttest_indResult(statistic=-4.660919716488713, pvalue=3.6299756528373223e-06)\n",
      "2 Sample t-test for Age 64 and above having lower survival rate\n",
      "Ttest_indResult(statistic=2.2964482804127067, pvalue=0.02188205122961956)\n"
     ]
    }
   ],
   "source": [
    "dfage = df.copy()\n",
    "\n",
    "#Overall survival rate for training data\n",
    "survivor_proportion = len(df[df['Survived']==1]) / len(df)\n",
    "\n",
    "print('Percent of overall survivors ' + str(survivor_proportion))\n",
    "print('\\n')\n",
    "\n",
    "#survival percentage by each age\n",
    "\n",
    "for i in range(20):\n",
    "    if len(df[(df['Age']==i)]) != 0: \n",
    "        print('Number of Passeners age ' + str(i) + \":    \" + str(round(len(df[(df['Age']==i) & (df['Survived']==1)]) / len(df[(df['Age']==i)]),4)) + '                 Sample size = ' + str(len(df[(df['Age']==i)])))\n",
    "    else:\n",
    "        print('Age ' + str(i) + ' has no samples')\n",
    "\n",
    "print('\\n')\n",
    "print('-'*50)        \n",
    "print('\\n')\n",
    "        \n",
    "for i in range(55,int(df.Age.max()+1)):\n",
    "    if len(df[(df['Age']==i)]) != 0: \n",
    "        print('Number of Passeners age ' + str(i) + \":    \" + str(round(len(df[(df['Age']==i) & (df['Survived']==1)]) / len(df[(df['Age']==i)]),4)) + '                 Sample size = ' + str(len(df[(df['Age']==i)])))\n",
    "    else:\n",
    "        print('Age ' + str(i) + ' has no samples')\n",
    "        \n",
    "print('\\n')\n",
    "\n",
    "# #Not extremely conclusive, but some evidence that passengers age 6 or less have a higher survival rate\n",
    "# #We will try a dummified column of Age 6 or less.\n",
    "\n",
    "df['Age6-'] = [1 if df.Age[i]<=6 else 0 for i in range(len(df.Age))]\n",
    "\n",
    "#1 of 12 passengers age 64 and up survived\n",
    "#For the older side, we will set a cutoff point of 64 years or older\n",
    "\n",
    "df['Age64+'] = [1 if df.Age[i]>=64 else 0 for i in range(len(df.Age))]\n",
    "\n",
    "print('\\n')\n",
    "\n",
    "print('2 Sample t-test for Age 6 and under having higher survival rate')\n",
    "print(scipy.stats.ttest_ind(df.Survived[df['Age6-']==0],df.Survived[df['Age6-']==1]))\n",
    "\n",
    "print('2 Sample t-test for Age 64 and above having lower survival rate')\n",
    "print(scipy.stats.ttest_ind(df.Survived[df['Age64+']==0],df.Survived[df['Age64+']==1]))\n",
    "\n",
    "#We have a dummified column for age missingness and age cutoffs, now we can drop the original age var\n",
    "\n",
    "df = df.drop(['Age'], axis=1)\n",
    "    "
   ]
  },
  {
   "cell_type": "code",
   "execution_count": 12,
   "metadata": {},
   "outputs": [
    {
     "data": {
      "text/plain": [
       "<matplotlib.axes._subplots.AxesSubplot at 0x1a1bc77b38>"
      ]
     },
     "execution_count": 12,
     "metadata": {},
     "output_type": "execute_result"
    },
    {
     "data": {
      "image/png": "[encoded data removed]",
      "text/plain": [
       "<Figure size 432x288 with 1 Axes>"
      ]
     },
     "metadata": {
      "needs_background": "light"
     },
     "output_type": "display_data"
    }
   ],
   "source": [
    "sns.barplot(x='Age6-', y='Survived', data=df)"
   ]
  },
  {
   "cell_type": "code",
   "execution_count": 13,
   "metadata": {},
   "outputs": [
    {
     "data": {
      "text/plain": [
       "<matplotlib.axes._subplots.AxesSubplot at 0x1a1bd4eef0>"
      ]
     },
     "execution_count": 13,
     "metadata": {},
     "output_type": "execute_result"
    },
    {
     "data": {
      "image/png": "[encoded data removed]",
      "text/plain": [
       "<Figure size 432x288 with 1 Axes>"
      ]
     },
     "metadata": {
      "needs_background": "light"
     },
     "output_type": "display_data"
    }
   ],
   "source": [
    "sns.barplot(x='Age64+', y='Survived', data=df)"
   ]
  },
  {
   "cell_type": "code",
   "execution_count": 14,
   "metadata": {},
   "outputs": [
    {
     "data": {
      "text/plain": [
       "Survived        0\n",
       "Pclass          0\n",
       "Sex             0\n",
       "Parch           0\n",
       "Fare            0\n",
       "Embarked        0\n",
       "CabinMissing    0\n",
       "0Sib            0\n",
       "1Sib            0\n",
       "2Sib            0\n",
       "MissingAge      0\n",
       "Age6-           0\n",
       "Age64+          0\n",
       "dtype: int64"
      ]
     },
     "execution_count": 14,
     "metadata": {},
     "output_type": "execute_result"
    }
   ],
   "source": [
    "df.isna().sum()\n",
    "\n",
    "#Missing data is good to go"
   ]
  },
  {
   "cell_type": "markdown",
   "metadata": {},
   "source": [
    "# Handling Categorical Data"
   ]
  },
  {
   "cell_type": "markdown",
   "metadata": {},
   "source": [
    "-------------------------Sex-------------------------"
   ]
  },
  {
   "cell_type": "code",
   "execution_count": 15,
   "metadata": {},
   "outputs": [],
   "source": [
    "df.Sex = [0 if i=='male' else 1 for i in df.Sex]"
   ]
  },
  {
   "cell_type": "markdown",
   "metadata": {},
   "source": [
    "-------------------------Embark-------------------------"
   ]
  },
  {
   "cell_type": "code",
   "execution_count": 16,
   "metadata": {},
   "outputs": [
    {
     "name": "stdout",
     "output_type": "stream",
     "text": [
      "Embarked\n",
      "C    0.553571\n",
      "Q    0.389610\n",
      "S    0.339009\n",
      "Name: Survived, dtype: float64\n"
     ]
    }
   ],
   "source": [
    "print(df.groupby(['Embarked']).mean()['Survived'])\n",
    "\n",
    "#Seems to make a difference. Will dummify and run a hypothesis test"
   ]
  },
  {
   "cell_type": "code",
   "execution_count": 17,
   "metadata": {},
   "outputs": [
    {
     "name": "stdout",
     "output_type": "stream",
     "text": [
      "Q: Ttest_indResult(statistic=-0.10884091138160804, pvalue=0.9133532352434202)\n",
      "S: Ttest_indResult(statistic=4.513807692270816, pvalue=7.223240983688172e-06)\n",
      "C: Ttest_indResult(statistic=-5.088809978331468, pvalue=4.39715132980687e-07)\n"
     ]
    }
   ],
   "source": [
    "#We will dummify these and see if they \n",
    "\n",
    "embarkdums = pd.get_dummies(df.Embarked)\n",
    "df['Q'] = embarkdums['Q']\n",
    "df['S'] = embarkdums['S']\n",
    "df['C'] = embarkdums['C']\n",
    "\n",
    "print('Q: ' + str(scipy.stats.ttest_ind(df.Survived[df['Q']==0],df.Survived[df['Q']==1])))\n",
    "print('S: ' + str(scipy.stats.ttest_ind(df.Survived[df['S']==0],df.Survived[df['S']==1])))\n",
    "print('C: ' + str(scipy.stats.ttest_ind(df.Survived[df['C']==0],df.Survived[df['C']==1])))\n",
    "\n",
    "#2 of the 3 yield statistically significant survival rates, so we will use them.\n",
    "\n",
    "df = df.drop(['Q'], axis=1)\n",
    "\n",
    "df = df.drop(['Embarked'], axis=1)"
   ]
  },
  {
   "cell_type": "markdown",
   "metadata": {},
   "source": [
    "----------------------------Sanity Check----------------------------"
   ]
  },
  {
   "cell_type": "code",
   "execution_count": 18,
   "metadata": {},
   "outputs": [
    {
     "data": {
      "text/html": [
       "<div>\n",
       "<style scoped>\n",
       "    .dataframe tbody tr th:only-of-type {\n",
       "        vertical-align: middle;\n",
       "    }\n",
       "\n",
       "    .dataframe tbody tr th {\n",
       "        vertical-align: top;\n",
       "    }\n",
       "\n",
       "    .dataframe thead th {\n",
       "        text-align: right;\n",
       "    }\n",
       "</style>\n",
       "<table border=\"1\" class=\"dataframe\">\n",
       "  <thead>\n",
       "    <tr style=\"text-align: right;\">\n",
       "      <th></th>\n",
       "      <th>Survived</th>\n",
       "      <th>Pclass</th>\n",
       "      <th>Sex</th>\n",
       "      <th>Parch</th>\n",
       "      <th>Fare</th>\n",
       "      <th>CabinMissing</th>\n",
       "      <th>0Sib</th>\n",
       "      <th>1Sib</th>\n",
       "      <th>2Sib</th>\n",
       "      <th>MissingAge</th>\n",
       "      <th>Age6-</th>\n",
       "      <th>Age64+</th>\n",
       "      <th>S</th>\n",
       "      <th>C</th>\n",
       "    </tr>\n",
       "  </thead>\n",
       "  <tbody>\n",
       "    <tr>\n",
       "      <th>Survived</th>\n",
       "      <td>1.000000</td>\n",
       "      <td>-0.338481</td>\n",
       "      <td>0.543351</td>\n",
       "      <td>0.147408</td>\n",
       "      <td>0.257307</td>\n",
       "      <td>-0.316912</td>\n",
       "      <td>-0.115867</td>\n",
       "      <td>0.173076</td>\n",
       "      <td>0.029796</td>\n",
       "      <td>-0.092197</td>\n",
       "      <td>0.154447</td>\n",
       "      <td>-0.076793</td>\n",
       "      <td>-0.149683</td>\n",
       "      <td>0.168240</td>\n",
       "    </tr>\n",
       "    <tr>\n",
       "      <th>Pclass</th>\n",
       "      <td>-0.338481</td>\n",
       "      <td>1.000000</td>\n",
       "      <td>-0.131900</td>\n",
       "      <td>-0.027526</td>\n",
       "      <td>-0.549500</td>\n",
       "      <td>0.725541</td>\n",
       "      <td>0.076009</td>\n",
       "      <td>-0.166435</td>\n",
       "      <td>0.010455</td>\n",
       "      <td>0.172933</td>\n",
       "      <td>0.075072</td>\n",
       "      <td>-0.100953</td>\n",
       "      <td>0.074053</td>\n",
       "      <td>-0.243292</td>\n",
       "    </tr>\n",
       "    <tr>\n",
       "      <th>Sex</th>\n",
       "      <td>0.543351</td>\n",
       "      <td>-0.131900</td>\n",
       "      <td>1.000000</td>\n",
       "      <td>0.247523</td>\n",
       "      <td>0.182333</td>\n",
       "      <td>-0.140391</td>\n",
       "      <td>-0.203203</td>\n",
       "      <td>0.179339</td>\n",
       "      <td>0.042182</td>\n",
       "      <td>-0.055215</td>\n",
       "      <td>0.067649</td>\n",
       "      <td>-0.089764</td>\n",
       "      <td>-0.119224</td>\n",
       "      <td>0.082853</td>\n",
       "    </tr>\n",
       "    <tr>\n",
       "      <th>Parch</th>\n",
       "      <td>0.147408</td>\n",
       "      <td>-0.027526</td>\n",
       "      <td>0.247523</td>\n",
       "      <td>1.000000</td>\n",
       "      <td>0.237717</td>\n",
       "      <td>-0.089136</td>\n",
       "      <td>-0.420233</td>\n",
       "      <td>0.223798</td>\n",
       "      <td>0.080037</td>\n",
       "      <td>-0.147163</td>\n",
       "      <td>0.409248</td>\n",
       "      <td>-0.002365</td>\n",
       "      <td>0.032821</td>\n",
       "      <td>0.032550</td>\n",
       "    </tr>\n",
       "    <tr>\n",
       "      <th>Fare</th>\n",
       "      <td>0.257307</td>\n",
       "      <td>-0.549500</td>\n",
       "      <td>0.182333</td>\n",
       "      <td>0.237717</td>\n",
       "      <td>1.000000</td>\n",
       "      <td>-0.482075</td>\n",
       "      <td>-0.192190</td>\n",
       "      <td>0.133121</td>\n",
       "      <td>0.070901</td>\n",
       "      <td>-0.100707</td>\n",
       "      <td>-0.005016</td>\n",
       "      <td>0.035489</td>\n",
       "      <td>-0.162184</td>\n",
       "      <td>0.269335</td>\n",
       "    </tr>\n",
       "    <tr>\n",
       "      <th>CabinMissing</th>\n",
       "      <td>-0.316912</td>\n",
       "      <td>0.725541</td>\n",
       "      <td>-0.140391</td>\n",
       "      <td>-0.089136</td>\n",
       "      <td>-0.482075</td>\n",
       "      <td>1.000000</td>\n",
       "      <td>0.075769</td>\n",
       "      <td>-0.133319</td>\n",
       "      <td>0.006289</td>\n",
       "      <td>0.144111</td>\n",
       "      <td>0.009093</td>\n",
       "      <td>-0.067357</td>\n",
       "      <td>0.101139</td>\n",
       "      <td>-0.208528</td>\n",
       "    </tr>\n",
       "    <tr>\n",
       "      <th>0Sib</th>\n",
       "      <td>-0.115867</td>\n",
       "      <td>0.076009</td>\n",
       "      <td>-0.203203</td>\n",
       "      <td>-0.420233</td>\n",
       "      <td>-0.192190</td>\n",
       "      <td>0.075769</td>\n",
       "      <td>1.000000</td>\n",
       "      <td>-0.811408</td>\n",
       "      <td>-0.264017</td>\n",
       "      <td>0.097998</td>\n",
       "      <td>-0.216471</td>\n",
       "      <td>0.042806</td>\n",
       "      <td>-0.004412</td>\n",
       "      <td>-0.034759</td>\n",
       "    </tr>\n",
       "    <tr>\n",
       "      <th>1Sib</th>\n",
       "      <td>0.173076</td>\n",
       "      <td>-0.166435</td>\n",
       "      <td>0.179339</td>\n",
       "      <td>0.223798</td>\n",
       "      <td>0.133121</td>\n",
       "      <td>-0.133319</td>\n",
       "      <td>-0.811408</td>\n",
       "      <td>1.000000</td>\n",
       "      <td>-0.099714</td>\n",
       "      <td>-0.103021</td>\n",
       "      <td>0.058954</td>\n",
       "      <td>-0.023181</td>\n",
       "      <td>-0.038742</td>\n",
       "      <td>0.092043</td>\n",
       "    </tr>\n",
       "    <tr>\n",
       "      <th>2Sib</th>\n",
       "      <td>0.029796</td>\n",
       "      <td>0.010455</td>\n",
       "      <td>0.042182</td>\n",
       "      <td>0.080037</td>\n",
       "      <td>0.070901</td>\n",
       "      <td>0.006289</td>\n",
       "      <td>-0.264017</td>\n",
       "      <td>-0.099714</td>\n",
       "      <td>1.000000</td>\n",
       "      <td>-0.041313</td>\n",
       "      <td>0.101388</td>\n",
       "      <td>-0.021918</td>\n",
       "      <td>-0.018741</td>\n",
       "      <td>0.011850</td>\n",
       "    </tr>\n",
       "    <tr>\n",
       "      <th>MissingAge</th>\n",
       "      <td>-0.092197</td>\n",
       "      <td>0.172933</td>\n",
       "      <td>-0.055215</td>\n",
       "      <td>-0.147163</td>\n",
       "      <td>-0.100707</td>\n",
       "      <td>0.144111</td>\n",
       "      <td>0.097998</td>\n",
       "      <td>-0.103021</td>\n",
       "      <td>-0.041313</td>\n",
       "      <td>1.000000</td>\n",
       "      <td>-0.117494</td>\n",
       "      <td>-0.060585</td>\n",
       "      <td>-0.241480</td>\n",
       "      <td>0.033270</td>\n",
       "    </tr>\n",
       "    <tr>\n",
       "      <th>Age6-</th>\n",
       "      <td>0.154447</td>\n",
       "      <td>0.075072</td>\n",
       "      <td>0.067649</td>\n",
       "      <td>0.409248</td>\n",
       "      <td>-0.005016</td>\n",
       "      <td>0.009093</td>\n",
       "      <td>-0.216471</td>\n",
       "      <td>0.058954</td>\n",
       "      <td>0.101388</td>\n",
       "      <td>-0.117494</td>\n",
       "      <td>1.000000</td>\n",
       "      <td>-0.028715</td>\n",
       "      <td>0.032877</td>\n",
       "      <td>-0.011064</td>\n",
       "    </tr>\n",
       "    <tr>\n",
       "      <th>Age64+</th>\n",
       "      <td>-0.076793</td>\n",
       "      <td>-0.100953</td>\n",
       "      <td>-0.089764</td>\n",
       "      <td>-0.002365</td>\n",
       "      <td>0.035489</td>\n",
       "      <td>-0.067357</td>\n",
       "      <td>0.042806</td>\n",
       "      <td>-0.023181</td>\n",
       "      <td>-0.021918</td>\n",
       "      <td>-0.060585</td>\n",
       "      <td>-0.028715</td>\n",
       "      <td>1.000000</td>\n",
       "      <td>-0.029880</td>\n",
       "      <td>0.013133</td>\n",
       "    </tr>\n",
       "    <tr>\n",
       "      <th>S</th>\n",
       "      <td>-0.149683</td>\n",
       "      <td>0.074053</td>\n",
       "      <td>-0.119224</td>\n",
       "      <td>0.032821</td>\n",
       "      <td>-0.162184</td>\n",
       "      <td>0.101139</td>\n",
       "      <td>-0.004412</td>\n",
       "      <td>-0.038742</td>\n",
       "      <td>-0.018741</td>\n",
       "      <td>-0.241480</td>\n",
       "      <td>0.032877</td>\n",
       "      <td>-0.029880</td>\n",
       "      <td>1.000000</td>\n",
       "      <td>-0.782742</td>\n",
       "    </tr>\n",
       "    <tr>\n",
       "      <th>C</th>\n",
       "      <td>0.168240</td>\n",
       "      <td>-0.243292</td>\n",
       "      <td>0.082853</td>\n",
       "      <td>0.032550</td>\n",
       "      <td>0.269335</td>\n",
       "      <td>-0.208528</td>\n",
       "      <td>-0.034759</td>\n",
       "      <td>0.092043</td>\n",
       "      <td>0.011850</td>\n",
       "      <td>0.033270</td>\n",
       "      <td>-0.011064</td>\n",
       "      <td>0.013133</td>\n",
       "      <td>-0.782742</td>\n",
       "      <td>1.000000</td>\n",
       "    </tr>\n",
       "  </tbody>\n",
       "</table>\n",
       "</div>"
      ],
      "text/plain": [
       "              Survived    Pclass       Sex     Parch      Fare  CabinMissing  \\\n",
       "Survived      1.000000 -0.338481  0.543351  0.147408  0.257307     -0.316912   \n",
       "Pclass       -0.338481  1.000000 -0.131900 -0.027526 -0.549500      0.725541   \n",
       "Sex           0.543351 -0.131900  1.000000  0.247523  0.182333     -0.140391   \n",
       "Parch         0.147408 -0.027526  0.247523  1.000000  0.237717     -0.089136   \n",
       "Fare          0.257307 -0.549500  0.182333  0.237717  1.000000     -0.482075   \n",
       "CabinMissing -0.316912  0.725541 -0.140391 -0.089136 -0.482075      1.000000   \n",
       "0Sib         -0.115867  0.076009 -0.203203 -0.420233 -0.192190      0.075769   \n",
       "1Sib          0.173076 -0.166435  0.179339  0.223798  0.133121     -0.133319   \n",
       "2Sib          0.029796  0.010455  0.042182  0.080037  0.070901      0.006289   \n",
       "MissingAge   -0.092197  0.172933 -0.055215 -0.147163 -0.100707      0.144111   \n",
       "Age6-         0.154447  0.075072  0.067649  0.409248 -0.005016      0.009093   \n",
       "Age64+       -0.076793 -0.100953 -0.089764 -0.002365  0.035489     -0.067357   \n",
       "S            -0.149683  0.074053 -0.119224  0.032821 -0.162184      0.101139   \n",
       "C             0.168240 -0.243292  0.082853  0.032550  0.269335     -0.208528   \n",
       "\n",
       "                  0Sib      1Sib      2Sib  MissingAge     Age6-    Age64+  \\\n",
       "Survived     -0.115867  0.173076  0.029796   -0.092197  0.154447 -0.076793   \n",
       "Pclass        0.076009 -0.166435  0.010455    0.172933  0.075072 -0.100953   \n",
       "Sex          -0.203203  0.179339  0.042182   -0.055215  0.067649 -0.089764   \n",
       "Parch        -0.420233  0.223798  0.080037   -0.147163  0.409248 -0.002365   \n",
       "Fare         -0.192190  0.133121  0.070901   -0.100707 -0.005016  0.035489   \n",
       "CabinMissing  0.075769 -0.133319  0.006289    0.144111  0.009093 -0.067357   \n",
       "0Sib          1.000000 -0.811408 -0.264017    0.097998 -0.216471  0.042806   \n",
       "1Sib         -0.811408  1.000000 -0.099714   -0.103021  0.058954 -0.023181   \n",
       "2Sib         -0.264017 -0.099714  1.000000   -0.041313  0.101388 -0.021918   \n",
       "MissingAge    0.097998 -0.103021 -0.041313    1.000000 -0.117494 -0.060585   \n",
       "Age6-        -0.216471  0.058954  0.101388   -0.117494  1.000000 -0.028715   \n",
       "Age64+        0.042806 -0.023181 -0.021918   -0.060585 -0.028715  1.000000   \n",
       "S            -0.004412 -0.038742 -0.018741   -0.241480  0.032877 -0.029880   \n",
       "C            -0.034759  0.092043  0.011850    0.033270 -0.011064  0.013133   \n",
       "\n",
       "                     S         C  \n",
       "Survived     -0.149683  0.168240  \n",
       "Pclass        0.074053 -0.243292  \n",
       "Sex          -0.119224  0.082853  \n",
       "Parch         0.032821  0.032550  \n",
       "Fare         -0.162184  0.269335  \n",
       "CabinMissing  0.101139 -0.208528  \n",
       "0Sib         -0.004412 -0.034759  \n",
       "1Sib         -0.038742  0.092043  \n",
       "2Sib         -0.018741  0.011850  \n",
       "MissingAge   -0.241480  0.033270  \n",
       "Age6-         0.032877 -0.011064  \n",
       "Age64+       -0.029880  0.013133  \n",
       "S             1.000000 -0.782742  \n",
       "C            -0.782742  1.000000  "
      ]
     },
     "execution_count": 18,
     "metadata": {},
     "output_type": "execute_result"
    }
   ],
   "source": [
    "df.corr()"
   ]
  },
  {
   "cell_type": "code",
   "execution_count": 19,
   "metadata": {
    "scrolled": true
   },
   "outputs": [
    {
     "data": {
      "text/html": [
       "<div>\n",
       "<style scoped>\n",
       "    .dataframe tbody tr th:only-of-type {\n",
       "        vertical-align: middle;\n",
       "    }\n",
       "\n",
       "    .dataframe tbody tr th {\n",
       "        vertical-align: top;\n",
       "    }\n",
       "\n",
       "    .dataframe thead th {\n",
       "        text-align: right;\n",
       "    }\n",
       "</style>\n",
       "<table border=\"1\" class=\"dataframe\">\n",
       "  <thead>\n",
       "    <tr style=\"text-align: right;\">\n",
       "      <th></th>\n",
       "      <th>Survived</th>\n",
       "      <th>Pclass</th>\n",
       "      <th>Sex</th>\n",
       "      <th>Parch</th>\n",
       "      <th>Fare</th>\n",
       "      <th>CabinMissing</th>\n",
       "      <th>0Sib</th>\n",
       "      <th>1Sib</th>\n",
       "      <th>2Sib</th>\n",
       "      <th>MissingAge</th>\n",
       "      <th>Age6-</th>\n",
       "      <th>Age64+</th>\n",
       "      <th>S</th>\n",
       "      <th>C</th>\n",
       "    </tr>\n",
       "  </thead>\n",
       "  <tbody>\n",
       "    <tr>\n",
       "      <th>258</th>\n",
       "      <td>1</td>\n",
       "      <td>1</td>\n",
       "      <td>1</td>\n",
       "      <td>0</td>\n",
       "      <td>512.3292</td>\n",
       "      <td>1</td>\n",
       "      <td>1</td>\n",
       "      <td>0</td>\n",
       "      <td>0</td>\n",
       "      <td>0</td>\n",
       "      <td>0</td>\n",
       "      <td>0</td>\n",
       "      <td>0</td>\n",
       "      <td>1</td>\n",
       "    </tr>\n",
       "    <tr>\n",
       "      <th>737</th>\n",
       "      <td>1</td>\n",
       "      <td>1</td>\n",
       "      <td>0</td>\n",
       "      <td>0</td>\n",
       "      <td>512.3292</td>\n",
       "      <td>0</td>\n",
       "      <td>1</td>\n",
       "      <td>0</td>\n",
       "      <td>0</td>\n",
       "      <td>0</td>\n",
       "      <td>0</td>\n",
       "      <td>0</td>\n",
       "      <td>0</td>\n",
       "      <td>1</td>\n",
       "    </tr>\n",
       "    <tr>\n",
       "      <th>679</th>\n",
       "      <td>1</td>\n",
       "      <td>1</td>\n",
       "      <td>0</td>\n",
       "      <td>1</td>\n",
       "      <td>512.3292</td>\n",
       "      <td>0</td>\n",
       "      <td>1</td>\n",
       "      <td>0</td>\n",
       "      <td>0</td>\n",
       "      <td>0</td>\n",
       "      <td>0</td>\n",
       "      <td>0</td>\n",
       "      <td>0</td>\n",
       "      <td>1</td>\n",
       "    </tr>\n",
       "    <tr>\n",
       "      <th>88</th>\n",
       "      <td>1</td>\n",
       "      <td>1</td>\n",
       "      <td>1</td>\n",
       "      <td>1</td>\n",
       "      <td>263.0000</td>\n",
       "      <td>0</td>\n",
       "      <td>0</td>\n",
       "      <td>0</td>\n",
       "      <td>0</td>\n",
       "      <td>0</td>\n",
       "      <td>0</td>\n",
       "      <td>0</td>\n",
       "      <td>1</td>\n",
       "      <td>0</td>\n",
       "    </tr>\n",
       "    <tr>\n",
       "      <th>27</th>\n",
       "      <td>0</td>\n",
       "      <td>1</td>\n",
       "      <td>0</td>\n",
       "      <td>1</td>\n",
       "      <td>263.0000</td>\n",
       "      <td>0</td>\n",
       "      <td>0</td>\n",
       "      <td>0</td>\n",
       "      <td>0</td>\n",
       "      <td>0</td>\n",
       "      <td>0</td>\n",
       "      <td>0</td>\n",
       "      <td>1</td>\n",
       "      <td>0</td>\n",
       "    </tr>\n",
       "  </tbody>\n",
       "</table>\n",
       "</div>"
      ],
      "text/plain": [
       "     Survived  Pclass  Sex  Parch      Fare  CabinMissing  0Sib  1Sib  2Sib  \\\n",
       "258         1       1    1      0  512.3292             1     1     0     0   \n",
       "737         1       1    0      0  512.3292             0     1     0     0   \n",
       "679         1       1    0      1  512.3292             0     1     0     0   \n",
       "88          1       1    1      1  263.0000             0     0     0     0   \n",
       "27          0       1    0      1  263.0000             0     0     0     0   \n",
       "\n",
       "     MissingAge  Age6-  Age64+  S  C  \n",
       "258           0      0       0  0  1  \n",
       "737           0      0       0  0  1  \n",
       "679           0      0       0  0  1  \n",
       "88            0      0       0  1  0  \n",
       "27            0      0       0  1  0  "
      ]
     },
     "execution_count": 19,
     "metadata": {},
     "output_type": "execute_result"
    }
   ],
   "source": [
    "#Final thought...\n",
    "\n",
    "df.sort_values(by = 'Fare', ascending=False).head()\n",
    "\n",
    "# There is obvious multicolinearity with Pclass and CabinMissing, could test different number of these features"
   ]
  },
  {
   "cell_type": "markdown",
   "metadata": {},
   "source": [
    "# Modeling Prep"
   ]
  },
  {
   "cell_type": "code",
   "execution_count": 20,
   "metadata": {},
   "outputs": [],
   "source": [
    "#Seperating our target variable\n",
    "\n",
    "Survived = df['Survived']\n",
    "df = df.drop(['Survived'], axis=1)"
   ]
  },
  {
   "cell_type": "code",
   "execution_count": 21,
   "metadata": {},
   "outputs": [],
   "source": [
    "#Getting our test dataframe to match the changes to our training dataframe\n",
    "\n",
    "testdf = pd.read_csv('test.csv')\n",
    "testdf = testdf.drop(['PassengerId', 'Name', 'Ticket'], axis=1)\n",
    "testdf.Sex = [0 if i=='male' else 1 for i in testdf.Sex]\n",
    "\n",
    "testdf['Age6-'] = [1 if testdf.Age[i]<=6 else 0 for i in range(len(testdf.Age))]\n",
    "testdf['Age64+'] = [1 if testdf.Age[i]>=64 else 0 for i in range(len(testdf.Age))]\n",
    "testdf['MissingAge'] = [1 if np.isnan(testdf.Age[i]) else 0 for i in range(len(testdf.Age))]\n",
    "testdf = testdf.drop(['Age'], axis=1)\n",
    "\n",
    "testdf['CabinMissing'] = [1 if type(testdf.Cabin[i]) == float else 0 for i in range(len(testdf.Cabin))]\n",
    "testdf = testdf.drop(['Cabin'], axis=1)\n",
    "\n",
    "testembarkdums = pd.get_dummies(testdf.Embarked)\n",
    "testembarkdums = testembarkdums.drop(['Q'], axis=1)\n",
    "testdf['C'] = testembarkdums['C']\n",
    "testdf['S'] = testembarkdums['S']\n",
    "testdf = testdf.drop(['Embarked'], axis=1)\n",
    "\n",
    "fareimpute = testdf.groupby('Pclass').mean()['Fare']\n",
    "for i in range(len(testdf.Fare)):\n",
    "    if pd.isna(testdf.Fare[i]):\n",
    "        testdf.Fare[i] = fareimpute.loc[testdf.Pclass[i]]\n",
    "\n",
    "testdf['0Sib'] = [1 if testdf.SibSp[i]==0 else 0 for i in range(len(testdf.SibSp))]\n",
    "testdf['1Sib'] = [1 if testdf.SibSp[i]==1 else 0 for i in range(len(testdf.SibSp))]\n",
    "testdf['2Sib'] = [1 if testdf.SibSp[i]==2 else 0 for i in range(len(testdf.SibSp))]\n",
    "testdf = testdf.drop(['SibSp'], axis=1)"
   ]
  },
  {
   "cell_type": "code",
   "execution_count": 50,
   "metadata": {},
   "outputs": [],
   "source": [
    "#We can toggle what variables we don't want\n",
    "\n",
    "cols = [i for i in df.columns if i not in ['Fare']]\n",
    "\n",
    "df = df[cols]\n",
    "testdf = testdf[cols]"
   ]
  },
  {
   "cell_type": "code",
   "execution_count": 24,
   "metadata": {},
   "outputs": [],
   "source": [
    "#First function will train our model on 80% of data and try it on the test data\n",
    "\n",
    "X_train, X_test, y_train, y_test = train_test_split(df, Survived, test_size=0.2, random_state=0)\n",
    "\n",
    "def split_get_error(X_train, y_train, X_test, y_test, model, show = True): #call what we got from the split\n",
    "    model.fit(X_train, y_train) #fit the model\n",
    "    train_accuracy = model.score(X_train, y_train) #how it performs on the data it was trained on\n",
    "    test_accuracy  = model.score(X_test, y_test) #how it performs on data we held out\n",
    "    if show: #we can change the argument to show=False if we don't want to print the errors\n",
    "        print(\"The training error is: %.5f\" %train_accuracy)\n",
    "        print(\"The test     error is: %.5f\" %test_accuracy)\n",
    "    return ('-'*50)\n",
    "\n",
    "#Second function will train our model on all the data. Accuracy will be on the same training data\n",
    "\n",
    "def get_error(x, y, model, show = True): #call what we got from the split\n",
    "    model.fit(x,y) #fit the model\n",
    "    train_accuracy = model.score(x,y) #how it performs on the data it was trained on\n",
    "    if show: #we can change the argument to show=False if we don't want to print the errors\n",
    "        print(\"The training error is: %.5f\" %train_accuracy)\n",
    "    return ('-'*50)"
   ]
  },
  {
   "cell_type": "markdown",
   "metadata": {},
   "source": [
    "# Logistic Regression"
   ]
  },
  {
   "cell_type": "code",
   "execution_count": 25,
   "metadata": {},
   "outputs": [
    {
     "name": "stdout",
     "output_type": "stream",
     "text": [
      "The training error is: 0.82022\n",
      "The test     error is: 0.80447\n",
      "--------------------------------------------------\n",
      "The training error is: 0.81481\n",
      "--------------------------------------------------\n"
     ]
    }
   ],
   "source": [
    "logistic = LogisticRegression(C=10000)\n",
    "logistic.fit(df, Survived)\n",
    "\n",
    "print(split_get_error(X_train, y_train, X_test, y_test, logistic))\n",
    "print(get_error(df, Survived, logistic))\n",
    "\n",
    "preds = logistic.predict(testdf)\n",
    "Id = [i for i in range(892,1310)]\n",
    "testdict = {'PassengerId': Id, 'Survived': preds}\n",
    "finaldf = pd.DataFrame(data=testdict).set_index('PassengerId')\n",
    "finaldf.to_csv('fulltitaniclogistic.csv')\n",
    "\n",
    "preds = logistic.predict(testdf)\n",
    "Id = [i for i in range(892,1310)]\n",
    "testdict = {'PassengerId': Id, 'Survived': preds}\n",
    "finaldf = pd.DataFrame(data=testdict).set_index('PassengerId')\n",
    "finaldf.to_csv('splittitaniclogistic.csv')"
   ]
  },
  {
   "cell_type": "markdown",
   "metadata": {},
   "source": [
    "# Unpruned Decision Trees"
   ]
  },
  {
   "cell_type": "code",
   "execution_count": 26,
   "metadata": {},
   "outputs": [
    {
     "name": "stdout",
     "output_type": "stream",
     "text": [
      "The training error is: 0.93820\n",
      "The test     error is: 0.79888\n",
      "--------------------------------------------------\n",
      "The training error is: 0.93939\n",
      "--------------------------------------------------\n"
     ]
    }
   ],
   "source": [
    "tree_model = tree.DecisionTreeClassifier() # store the model type we'll be using in a variable name\n",
    "print(split_get_error(X_train, y_train, X_test, y_test, tree_model))\n",
    "print(get_error(df, Survived, tree_model))\n",
    "\n",
    "# Tree is way overfit to the training data\n",
    "# Will prune it back"
   ]
  },
  {
   "cell_type": "markdown",
   "metadata": {},
   "source": [
    "# Pruned Decision Trees"
   ]
  },
  {
   "cell_type": "code",
   "execution_count": 40,
   "metadata": {},
   "outputs": [
    {
     "name": "stdout",
     "output_type": "stream",
     "text": [
      "CPU times: user 23.5 s, sys: 615 ms, total: 24.2 s\n",
      "Wall time: 37.4 s\n",
      "CPU times: user 27 s, sys: 728 ms, total: 27.7 s\n",
      "Wall time: 39.8 s\n",
      "--------------------------------------------------\n",
      "Split Tree:\n",
      "Best parameters: {'criterion': 'entropy', 'max_depth': 5, 'min_samples_split': 2, 'splitter': 'random'}\n",
      "The best score is 0.8216\n",
      "The training accuracy is 0.8357\n",
      "The testing accuracy is 0.8156\n",
      "--------------------------------------------------\n",
      "Full Tree:\n",
      "Best parameters: {'criterion': 'entropy', 'max_depth': 9, 'min_samples_split': 3, 'splitter': 'random'}\n",
      "The best score is 0.8283\n",
      "The training accuracy is 0.8698\n"
     ]
    }
   ],
   "source": [
    "import warnings\n",
    "warnings.filterwarnings('ignore')\n",
    "\n",
    "grid_para_tree = {'criterion': ['gini', 'entropy'], 'max_depth': range(1, 30), 'min_samples_split': range(1,30), 'splitter': ['best', 'random']}\n",
    "\n",
    "#Tuning TWO hyperparameters: criterion, tree depth\n",
    "\n",
    "grid_search_tree_split = %time ms.GridSearchCV(tree_model, grid_para_tree, cv=5, scoring='accuracy', n_jobs=-1).fit(X_train, y_train)\n",
    "grid_search_tree = %time ms.GridSearchCV(tree_model, grid_para_tree, cv=5, scoring='accuracy', n_jobs=-1).fit(df, Survived)\n",
    "#run the grid search\n",
    "print('-'*50)\n",
    "print('Split Tree:')\n",
    "print('Best parameters: '+ str(grid_search_tree_split.best_params_))\n",
    "print('The best score is %.4f' %grid_search_tree_split.best_score_)\n",
    "print('The training accuracy is %.4f' %(grid_search_tree_split.best_estimator_.score(X_train, y_train)))\n",
    "print('The testing accuracy is %.4f' %(grid_search_tree_split.best_estimator_.score(X_test, y_test)))\n",
    "print('-'*50)\n",
    "print('Full Tree:')\n",
    "print('Best parameters: '+ str(grid_search_tree.best_params_))\n",
    "print('The best score is %.4f' %grid_search_tree.best_score_)\n",
    "print('The training accuracy is %.4f' %(grid_search_tree.best_estimator_.score(df, Survived)))\n",
    "\n",
    "\n",
    "preds = grid_search_tree_split.predict(testdf)\n",
    "Id = [i for i in range(892,1310)]\n",
    "testdict = {'PassengerId': Id, 'Survived': preds}\n",
    "finaldf = pd.DataFrame(data=testdict).set_index('PassengerId')\n",
    "finaldf.to_csv('splittree.csv')\n",
    "\n",
    "preds = grid_search_tree.predict(testdf)\n",
    "Id = [i for i in range(892,1310)]\n",
    "testdict = {'PassengerId': Id, 'Survived': preds}\n",
    "finaldf = pd.DataFrame(data=testdict).set_index('PassengerId')\n",
    "finaldf.to_csv('fulltree.csv')"
   ]
  },
  {
   "cell_type": "markdown",
   "metadata": {},
   "source": [
    "# Random Forest"
   ]
  },
  {
   "cell_type": "code",
   "execution_count": 51,
   "metadata": {},
   "outputs": [
    {
     "name": "stdout",
     "output_type": "stream",
     "text": [
      "CPU times: user 2min 5s, sys: 4.35 s, total: 2min 10s\n",
      "Wall time: 31min 5s\n",
      "CPU times: user 1min 45s, sys: 4.17 s, total: 1min 49s\n",
      "Wall time: 10min 10s\n",
      "Split Forest:\n",
      "{'criterion': 'entropy', 'max_depth': 5, 'max_features': 4, 'n_estimators': 60}\n",
      "0.8300889976243662\n",
      "The training accuracy is: 0.84972\n",
      "The test     accuracy is: 0.83799\n",
      "--------------------------------------------------\n",
      "Full Forest:\n",
      "{'criterion': 'gini', 'max_depth': 5, 'max_features': 6, 'n_estimators': 20}\n",
      "0.8271604938271605\n",
      "The training accuracy is: 0.84063\n"
     ]
    },
    {
     "ename": "ValueError",
     "evalue": "Number of features of the model must match the input. Model n_features is 13 and input n_features is 12 ",
     "output_type": "error",
     "traceback": [
      "\u001b[0;31m---------------------------------------------------------------------------\u001b[0m",
      "\u001b[0;31mValueError\u001b[0m                                Traceback (most recent call last)",
      "\u001b[0;32m<ipython-input-51-58e94517d833>\u001b[0m in \u001b[0;36m<module>\u001b[0;34m\u001b[0m\n\u001b[1;32m     25\u001b[0m \u001b[0mprint\u001b[0m\u001b[0;34m(\u001b[0m\u001b[0;34m\"The training accuracy is: %.5f\"\u001b[0m \u001b[0;34m%\u001b[0m \u001b[0;34m(\u001b[0m\u001b[0mgrid_search_forest\u001b[0m\u001b[0;34m.\u001b[0m\u001b[0mbest_estimator_\u001b[0m\u001b[0;34m.\u001b[0m\u001b[0mscore\u001b[0m\u001b[0;34m(\u001b[0m\u001b[0mdf\u001b[0m\u001b[0;34m,\u001b[0m \u001b[0mSurvived\u001b[0m\u001b[0;34m)\u001b[0m\u001b[0;34m)\u001b[0m\u001b[0;34m)\u001b[0m\u001b[0;34m\u001b[0m\u001b[0;34m\u001b[0m\u001b[0m\n\u001b[1;32m     26\u001b[0m \u001b[0;34m\u001b[0m\u001b[0m\n\u001b[0;32m---> 27\u001b[0;31m \u001b[0mpreds\u001b[0m \u001b[0;34m=\u001b[0m \u001b[0mgrid_search_forest_split\u001b[0m\u001b[0;34m.\u001b[0m\u001b[0mpredict\u001b[0m\u001b[0;34m(\u001b[0m\u001b[0mtestdf\u001b[0m\u001b[0;34m)\u001b[0m\u001b[0;34m\u001b[0m\u001b[0;34m\u001b[0m\u001b[0m\n\u001b[0m\u001b[1;32m     28\u001b[0m \u001b[0mId\u001b[0m \u001b[0;34m=\u001b[0m \u001b[0;34m[\u001b[0m\u001b[0mi\u001b[0m \u001b[0;32mfor\u001b[0m \u001b[0mi\u001b[0m \u001b[0;32min\u001b[0m \u001b[0mrange\u001b[0m\u001b[0;34m(\u001b[0m\u001b[0;36m892\u001b[0m\u001b[0;34m,\u001b[0m\u001b[0;36m1310\u001b[0m\u001b[0;34m)\u001b[0m\u001b[0;34m]\u001b[0m\u001b[0;34m\u001b[0m\u001b[0;34m\u001b[0m\u001b[0m\n\u001b[1;32m     29\u001b[0m \u001b[0mtestdict\u001b[0m \u001b[0;34m=\u001b[0m \u001b[0;34m{\u001b[0m\u001b[0;34m'PassengerId'\u001b[0m\u001b[0;34m:\u001b[0m \u001b[0mId\u001b[0m\u001b[0;34m,\u001b[0m \u001b[0;34m'Survived'\u001b[0m\u001b[0;34m:\u001b[0m \u001b[0mpreds\u001b[0m\u001b[0;34m}\u001b[0m\u001b[0;34m\u001b[0m\u001b[0;34m\u001b[0m\u001b[0m\n",
      "\u001b[0;32m~/anaconda3/lib/python3.7/site-packages/sklearn/utils/metaestimators.py\u001b[0m in \u001b[0;36m<lambda>\u001b[0;34m(*args, **kwargs)\u001b[0m\n\u001b[1;32m    114\u001b[0m \u001b[0;34m\u001b[0m\u001b[0m\n\u001b[1;32m    115\u001b[0m         \u001b[0;31m# lambda, but not partial, allows help() to work with update_wrapper\u001b[0m\u001b[0;34m\u001b[0m\u001b[0;34m\u001b[0m\u001b[0;34m\u001b[0m\u001b[0m\n\u001b[0;32m--> 116\u001b[0;31m         \u001b[0mout\u001b[0m \u001b[0;34m=\u001b[0m \u001b[0;32mlambda\u001b[0m \u001b[0;34m*\u001b[0m\u001b[0margs\u001b[0m\u001b[0;34m,\u001b[0m \u001b[0;34m**\u001b[0m\u001b[0mkwargs\u001b[0m\u001b[0;34m:\u001b[0m \u001b[0mself\u001b[0m\u001b[0;34m.\u001b[0m\u001b[0mfn\u001b[0m\u001b[0;34m(\u001b[0m\u001b[0mobj\u001b[0m\u001b[0;34m,\u001b[0m \u001b[0;34m*\u001b[0m\u001b[0margs\u001b[0m\u001b[0;34m,\u001b[0m \u001b[0;34m**\u001b[0m\u001b[0mkwargs\u001b[0m\u001b[0;34m)\u001b[0m\u001b[0;34m\u001b[0m\u001b[0;34m\u001b[0m\u001b[0m\n\u001b[0m\u001b[1;32m    117\u001b[0m         \u001b[0;31m# update the docstring of the returned function\u001b[0m\u001b[0;34m\u001b[0m\u001b[0;34m\u001b[0m\u001b[0;34m\u001b[0m\u001b[0m\n\u001b[1;32m    118\u001b[0m         \u001b[0mupdate_wrapper\u001b[0m\u001b[0;34m(\u001b[0m\u001b[0mout\u001b[0m\u001b[0;34m,\u001b[0m \u001b[0mself\u001b[0m\u001b[0;34m.\u001b[0m\u001b[0mfn\u001b[0m\u001b[0;34m)\u001b[0m\u001b[0;34m\u001b[0m\u001b[0;34m\u001b[0m\u001b[0m\n",
      "\u001b[0;32m~/anaconda3/lib/python3.7/site-packages/sklearn/model_selection/_search.py\u001b[0m in \u001b[0;36mpredict\u001b[0;34m(self, X)\u001b[0m\n\u001b[1;32m    475\u001b[0m         \"\"\"\n\u001b[1;32m    476\u001b[0m         \u001b[0mself\u001b[0m\u001b[0;34m.\u001b[0m\u001b[0m_check_is_fitted\u001b[0m\u001b[0;34m(\u001b[0m\u001b[0;34m'predict'\u001b[0m\u001b[0;34m)\u001b[0m\u001b[0;34m\u001b[0m\u001b[0;34m\u001b[0m\u001b[0m\n\u001b[0;32m--> 477\u001b[0;31m         \u001b[0;32mreturn\u001b[0m \u001b[0mself\u001b[0m\u001b[0;34m.\u001b[0m\u001b[0mbest_estimator_\u001b[0m\u001b[0;34m.\u001b[0m\u001b[0mpredict\u001b[0m\u001b[0;34m(\u001b[0m\u001b[0mX\u001b[0m\u001b[0;34m)\u001b[0m\u001b[0;34m\u001b[0m\u001b[0;34m\u001b[0m\u001b[0m\n\u001b[0m\u001b[1;32m    478\u001b[0m \u001b[0;34m\u001b[0m\u001b[0m\n\u001b[1;32m    479\u001b[0m     \u001b[0;34m@\u001b[0m\u001b[0mif_delegate_has_method\u001b[0m\u001b[0;34m(\u001b[0m\u001b[0mdelegate\u001b[0m\u001b[0;34m=\u001b[0m\u001b[0;34m(\u001b[0m\u001b[0;34m'best_estimator_'\u001b[0m\u001b[0;34m,\u001b[0m \u001b[0;34m'estimator'\u001b[0m\u001b[0;34m)\u001b[0m\u001b[0;34m)\u001b[0m\u001b[0;34m\u001b[0m\u001b[0;34m\u001b[0m\u001b[0m\n",
      "\u001b[0;32m~/anaconda3/lib/python3.7/site-packages/sklearn/ensemble/_forest.py\u001b[0m in \u001b[0;36mpredict\u001b[0;34m(self, X)\u001b[0m\n\u001b[1;32m    610\u001b[0m             \u001b[0mThe\u001b[0m \u001b[0mpredicted\u001b[0m \u001b[0mclasses\u001b[0m\u001b[0;34m.\u001b[0m\u001b[0;34m\u001b[0m\u001b[0;34m\u001b[0m\u001b[0m\n\u001b[1;32m    611\u001b[0m         \"\"\"\n\u001b[0;32m--> 612\u001b[0;31m         \u001b[0mproba\u001b[0m \u001b[0;34m=\u001b[0m \u001b[0mself\u001b[0m\u001b[0;34m.\u001b[0m\u001b[0mpredict_proba\u001b[0m\u001b[0;34m(\u001b[0m\u001b[0mX\u001b[0m\u001b[0;34m)\u001b[0m\u001b[0;34m\u001b[0m\u001b[0;34m\u001b[0m\u001b[0m\n\u001b[0m\u001b[1;32m    613\u001b[0m \u001b[0;34m\u001b[0m\u001b[0m\n\u001b[1;32m    614\u001b[0m         \u001b[0;32mif\u001b[0m \u001b[0mself\u001b[0m\u001b[0;34m.\u001b[0m\u001b[0mn_outputs_\u001b[0m \u001b[0;34m==\u001b[0m \u001b[0;36m1\u001b[0m\u001b[0;34m:\u001b[0m\u001b[0;34m\u001b[0m\u001b[0;34m\u001b[0m\u001b[0m\n",
      "\u001b[0;32m~/anaconda3/lib/python3.7/site-packages/sklearn/ensemble/_forest.py\u001b[0m in \u001b[0;36mpredict_proba\u001b[0;34m(self, X)\u001b[0m\n\u001b[1;32m    654\u001b[0m         \u001b[0mcheck_is_fitted\u001b[0m\u001b[0;34m(\u001b[0m\u001b[0mself\u001b[0m\u001b[0;34m)\u001b[0m\u001b[0;34m\u001b[0m\u001b[0;34m\u001b[0m\u001b[0m\n\u001b[1;32m    655\u001b[0m         \u001b[0;31m# Check data\u001b[0m\u001b[0;34m\u001b[0m\u001b[0;34m\u001b[0m\u001b[0;34m\u001b[0m\u001b[0m\n\u001b[0;32m--> 656\u001b[0;31m         \u001b[0mX\u001b[0m \u001b[0;34m=\u001b[0m \u001b[0mself\u001b[0m\u001b[0;34m.\u001b[0m\u001b[0m_validate_X_predict\u001b[0m\u001b[0;34m(\u001b[0m\u001b[0mX\u001b[0m\u001b[0;34m)\u001b[0m\u001b[0;34m\u001b[0m\u001b[0;34m\u001b[0m\u001b[0m\n\u001b[0m\u001b[1;32m    657\u001b[0m \u001b[0;34m\u001b[0m\u001b[0m\n\u001b[1;32m    658\u001b[0m         \u001b[0;31m# Assign chunk of trees to jobs\u001b[0m\u001b[0;34m\u001b[0m\u001b[0;34m\u001b[0m\u001b[0;34m\u001b[0m\u001b[0m\n",
      "\u001b[0;32m~/anaconda3/lib/python3.7/site-packages/sklearn/ensemble/_forest.py\u001b[0m in \u001b[0;36m_validate_X_predict\u001b[0;34m(self, X)\u001b[0m\n\u001b[1;32m    410\u001b[0m         \u001b[0mcheck_is_fitted\u001b[0m\u001b[0;34m(\u001b[0m\u001b[0mself\u001b[0m\u001b[0;34m)\u001b[0m\u001b[0;34m\u001b[0m\u001b[0;34m\u001b[0m\u001b[0m\n\u001b[1;32m    411\u001b[0m \u001b[0;34m\u001b[0m\u001b[0m\n\u001b[0;32m--> 412\u001b[0;31m         \u001b[0;32mreturn\u001b[0m \u001b[0mself\u001b[0m\u001b[0;34m.\u001b[0m\u001b[0mestimators_\u001b[0m\u001b[0;34m[\u001b[0m\u001b[0;36m0\u001b[0m\u001b[0;34m]\u001b[0m\u001b[0;34m.\u001b[0m\u001b[0m_validate_X_predict\u001b[0m\u001b[0;34m(\u001b[0m\u001b[0mX\u001b[0m\u001b[0;34m,\u001b[0m \u001b[0mcheck_input\u001b[0m\u001b[0;34m=\u001b[0m\u001b[0;32mTrue\u001b[0m\u001b[0;34m)\u001b[0m\u001b[0;34m\u001b[0m\u001b[0;34m\u001b[0m\u001b[0m\n\u001b[0m\u001b[1;32m    413\u001b[0m \u001b[0;34m\u001b[0m\u001b[0m\n\u001b[1;32m    414\u001b[0m     \u001b[0;34m@\u001b[0m\u001b[0mproperty\u001b[0m\u001b[0;34m\u001b[0m\u001b[0;34m\u001b[0m\u001b[0m\n",
      "\u001b[0;32m~/anaconda3/lib/python3.7/site-packages/sklearn/tree/_classes.py\u001b[0m in \u001b[0;36m_validate_X_predict\u001b[0;34m(self, X, check_input)\u001b[0m\n\u001b[1;32m    389\u001b[0m                              \u001b[0;34m\"match the input. Model n_features is %s and \"\u001b[0m\u001b[0;34m\u001b[0m\u001b[0;34m\u001b[0m\u001b[0m\n\u001b[1;32m    390\u001b[0m                              \u001b[0;34m\"input n_features is %s \"\u001b[0m\u001b[0;34m\u001b[0m\u001b[0;34m\u001b[0m\u001b[0m\n\u001b[0;32m--> 391\u001b[0;31m                              % (self.n_features_, n_features))\n\u001b[0m\u001b[1;32m    392\u001b[0m \u001b[0;34m\u001b[0m\u001b[0m\n\u001b[1;32m    393\u001b[0m         \u001b[0;32mreturn\u001b[0m \u001b[0mX\u001b[0m\u001b[0;34m\u001b[0m\u001b[0;34m\u001b[0m\u001b[0m\n",
      "\u001b[0;31mValueError\u001b[0m: Number of features of the model must match the input. Model n_features is 13 and input n_features is 12 "
     ]
    }
   ],
   "source": [
    "randomForest = ensemble.RandomForestClassifier()\n",
    "\n",
    "grid_para_forest = {\n",
    "    'criterion': ['gini', 'entropy'], # criterion = are we trying to optimize gini or entropy\n",
    "    'max_depth': range(1, 31), # depth = varying max tree_depths\n",
    "    'n_estimators': range(10, 110, 10), # n_estimators = number of trees in the forest\n",
    "    'max_features': range(1,len(df.columns)) # n_estimators = number of trees in the forest\n",
    "}\n",
    "\n",
    "grid_search_forest_split = ms.GridSearchCV(randomForest, grid_para_forest, scoring='accuracy', cv=3, n_jobs=-1)\n",
    "%time grid_search_forest_split.fit(X_train, y_train)\n",
    "\n",
    "grid_search_forest = ms.GridSearchCV(randomForest, grid_para_forest, scoring='accuracy', cv=3, n_jobs=-1)\n",
    "%time grid_search_forest.fit(df, Survived)\n",
    "\n",
    "print('Split Forest:')\n",
    "print(grid_search_forest_split.best_params_)\n",
    "print(grid_search_forest_split.best_score_)\n",
    "print(\"The training accuracy is: %.5f\" % (grid_search_forest_split.best_estimator_.score(X_train, y_train)))\n",
    "print(\"The test     accuracy is: %.5f\" % (grid_search_forest_split.best_estimator_.score(X_test, y_test)))\n",
    "print('-'*50)\n",
    "print('Full Forest:')\n",
    "print(grid_search_forest.best_params_)\n",
    "print(grid_search_forest.best_score_)\n",
    "print(\"The training accuracy is: %.5f\" % (grid_search_forest.best_estimator_.score(df, Survived)))\n",
    "\n",
    "preds = grid_search_forest_split.predict(testdf)\n",
    "Id = [i for i in range(892,1310)]\n",
    "testdict = {'PassengerId': Id, 'Survived': preds}\n",
    "finaldf = pd.DataFrame(data=testdict).set_index('PassengerId')\n",
    "finaldf.to_csv('splitforest.csv')\n",
    "\n",
    "preds = grid_search_forest.predict(testdf)\n",
    "Id = [i for i in range(892,1310)]\n",
    "testdict = {'PassengerId': Id, 'Survived': preds}\n",
    "finaldf = pd.DataFrame(data=testdict).set_index('PassengerId')\n",
    "finaldf.to_csv('fullforest.csv')"
   ]
  },
  {
   "cell_type": "code",
   "execution_count": null,
   "metadata": {},
   "outputs": [],
   "source": [
    "1+1"
   ]
  },
  {
   "cell_type": "code",
   "execution_count": null,
   "metadata": {},
   "outputs": [],
   "source": []
  }
 ],
 "metadata": {
  "kernelspec": {
   "display_name": "Python 3",
   "language": "python",
   "name": "python3"
  }
 },
 "nbformat": 4,
 "nbformat_minor": 2
}
